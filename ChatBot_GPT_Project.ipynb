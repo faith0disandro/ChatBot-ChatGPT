{
  "cells": [
    {
      "cell_type": "markdown",
      "metadata": {
        "id": "view-in-github",
        "colab_type": "text"
      },
      "source": [
        "<a href=\"https://colab.research.google.com/github/faith0disandro/ChatBot-ChatGPT/blob/main/ChatBot_GPT_Project.ipynb\" target=\"_parent\"><img src=\"https://colab.research.google.com/assets/colab-badge.svg\" alt=\"Open In Colab\"/></a>"
      ]
    },
    {
      "cell_type": "markdown",
      "metadata": {
        "id": "RZsmdM0NY92Y"
      },
      "source": [
        "#Task 1: Import Libraries and Define the OpenAI API Key"
      ]
    },
    {
      "cell_type": "code",
      "execution_count": null,
      "metadata": {
        "id": "WAbalTS5Wp4X"
      },
      "outputs": [],
      "source": [
        "# ! pip install openai\n",
        "! pip install openai --upgrade"
      ]
    },
    {
      "cell_type": "code",
      "execution_count": null,
      "metadata": {
        "id": "sKePH20SW5aA"
      },
      "outputs": [],
      "source": [
        "! pip install openai==0.28"
      ]
    },
    {
      "cell_type": "code",
      "execution_count": null,
      "metadata": {
        "id": "IwaIzzF4WsDT"
      },
      "outputs": [],
      "source": [
        "# Import necessary libraries\n",
        "import openai\n",
        "import os\n",
        "\n",
        "# go to \"https://platform.openai.com/api-keys\" to get your api key\n",
        "\n",
        "# Define OpenAI API key\n",
        "openai.api_key = \"API KEY HERE\"\n"
      ]
    },
    {
      "cell_type": "markdown",
      "metadata": {
        "id": "gMBxHl5afnho"
      },
      "source": [
        "#Task 2: Chat with ChatGPT using the API key"
      ]
    },
    {
      "cell_type": "code",
      "execution_count": null,
      "metadata": {
        "id": "MDBUWcq-fqPh"
      },
      "outputs": [],
      "source": [
        "# Function to send a message to ChatGPT and get a response\n",
        "def chat_with_gpt(message):\n",
        "    response = openai.Completion.create(\n",
        "        engine=\"gpt-3.5-turbo\",  # Updated to a supported model\n",
        "        prompt=message,\n",
        "        max_tokens=50  # Adjust this based on your desired response length\n",
        "    )\n",
        "    return response.choices[0].text\n",
        "\n",
        "# Start a conversation\n",
        "conversation = []\n",
        "\n",
        "while True:\n",
        "    user_input = input(\"You: \")\n",
        "    conversation.append(f\"You: {user_input}\")\n",
        "\n",
        "    # Exit the loop if the user wants to end the conversation\n",
        "    if user_input.lower() == 'exit':\n",
        "        break\n",
        "\n",
        "    # Generate a response from ChatGPT\n",
        "    response = chat_with_gpt(\"\\n\".join(conversation))\n",
        "    print(f\"ChatGPT: {response}\")\n",
        "    conversation.append(f\"ChatGPT: {response}\")"
      ]
    },
    {
      "cell_type": "markdown",
      "metadata": {
        "id": "aUu9y6EzZSKl"
      },
      "source": [
        "#Task 3: Define the Chatbot Conversation Function\n",
        "\n"
      ]
    },
    {
      "cell_type": "code",
      "execution_count": null,
      "metadata": {
        "id": "l9wn1GojXHIt"
      },
      "outputs": [],
      "source": [
        "def chatbot_conversation(initial_prompt):\n",
        "    # Initialize conversation with initial prompt\n",
        "    prompt = initial_prompt\n",
        "\n",
        "    # Continuously interact with the user until they end the conversation\n",
        "    while True:\n",
        "        # Get user input\n",
        "        user_input = input(\"User: \")\n",
        "\n",
        "        # Send user input and current prompt to ChatGPT API and receive response\n",
        "        response = openai.Completion.create(\n",
        "            model=\"text-davinci-003\", # this model is specifically designed to understand and generate natural language text (instruction-following tasks)\n",
        "            prompt=prompt + \"\\nUser: \" + user_input,\n",
        "            temperature= 0.7, ### insert the temperature here ###\n",
        "            max_tokens= 1024 ### insert the max number tokens here ###\n",
        "        )\n",
        "\n",
        "        # Extract and display ChatGPT's response\n",
        "        chatbot_response = response.choices[0].text\n",
        "        print(\"Chatbot:\", chatbot_response)\n",
        "\n",
        "        # Update prompt for next iteration\n",
        "        prompt = prompt + \"\\nChatbot: \" + chatbot_response + \"\\n\""
      ]
    },
    {
      "cell_type": "markdown",
      "metadata": {
        "id": "PhfcrzXjZXFD"
      },
      "source": [
        "#Task 4: Handle Frequently Asked Questions"
      ]
    },
    {
      "cell_type": "markdown",
      "metadata": {
        "id": "Hje9d3v9i1g8"
      },
      "source": [
        "###Handling FAQs for Product Information"
      ]
    },
    {
      "cell_type": "code",
      "execution_count": null,
      "metadata": {
        "id": "2y0Tvm6vXJmr"
      },
      "outputs": [],
      "source": [
        "def product_information_faq(user_input):\n",
        "    # Identify product-related keywords in user input\n",
        "    product_keywords = [\"product\", \"item\", \"details\", \"features\", \"specifications\", \"capabilities\"] ### insert product keywords here ###\n",
        "    for keyword in product_keywords:\n",
        "        if keyword in user_input.lower():\n",
        "            # Provide relevant product information based on user's query\n",
        "            print(\"Please specify the product you're interested in and I'll provide more details.\")\n",
        "            product_name = input(\"Product name: \")\n",
        "            # Use product_name to retrieve and display product information from a database or API\n",
        "            print(\"Product information for \" + product_name + \":\")\n",
        "            # Display product details, features, and specifications"
      ]
    },
    {
      "cell_type": "markdown",
      "metadata": {
        "id": "i5fWR3z9ZcEU"
      },
      "source": [
        "###Handling FAQs for Shipping and Returns"
      ]
    },
    {
      "cell_type": "code",
      "execution_count": null,
      "metadata": {
        "id": "5t0fDzC3XMCd"
      },
      "outputs": [],
      "source": [
        "def shipping_and_returns_faq(user_input):\n",
        "    # Identify shipping or returns keywords in user input\n",
        "    shipping_keywords = [\"shipping\", \"delivery\", \"courier\", \"timeline\"] ### insert product keywords here ###\n",
        "    returns_keywords = [\"return\", \"refund\", \"exchange\", \"policy\"]\n",
        "\n",
        "    for keyword in shipping_keywords:\n",
        "        if keyword in user_input.lower():\n",
        "            # Provide relevant shipping information based on user's query\n",
        "            print(\"Shipping options and timelines for your order:\")\n",
        "            # Display shipping options, delivery timelines, and estimated delivery dates\n",
        "\n",
        "    for keyword in returns_keywords:\n",
        "        if keyword in user_input.lower():\n",
        "            # Provide relevant returns information based on user's query\n",
        "            print(\"Our returns policy and procedures:\")\n",
        "            # Display returns policy, return initiation process, and refund or exchange options"
      ]
    },
    {
      "cell_type": "markdown",
      "metadata": {
        "id": "wjko2N6cZh-Q"
      },
      "source": [
        "###Handling FAQs for Customer Support"
      ]
    },
    {
      "cell_type": "code",
      "execution_count": null,
      "metadata": {
        "id": "aNxR3k_UXOSh"
      },
      "outputs": [],
      "source": [
        "def customer_support_faq(user_input):\n",
        "    # Identify customer support keywords in user input\n",
        "    support_keywords = [\"help\", \"issue\", \"problem\", \"assistance\", \"support\"] ### insert product keywords here ###\n",
        "\n",
        "    for keyword in support_keywords:\n",
        "        if keyword in user_input.lower():\n",
        "            # Provide relevant customer support assistance\n",
        "            print(\"Please describe your issue or problem in detail so we can assist you.\")\n",
        "            user_issue = input(\"Description of issue: \")\n",
        "            # Use user_issue to identify and resolve the user's problem or direct them to relevant support resources\n",
        "            print(\"We're here to help. Please provide more details about your issue.\")"
      ]
    },
    {
      "cell_type": "markdown",
      "metadata": {
        "id": "H5EOYnzgZnFy"
      },
      "source": [
        "#Task 5: Initiate Chatbot Conversation and Testing"
      ]
    },
    {
      "cell_type": "code",
      "execution_count": null,
      "metadata": {
        "id": "irKGuPtuXQ8R"
      },
      "outputs": [],
      "source": [
        "# Start the chatbot conversation with a welcome message\n",
        "print(\"Welcome to our customer service chatbot. How can I help you today?\")\n",
        "\n",
        "# Initialize conversation with an empty prompt\n",
        "prompt = \"\"\n",
        "\n",
        "# Continuously interact with the user and handle their queries\n",
        "while True:\n",
        "    user_input = input(\"User: \")\n",
        "\n",
        "    # Check if user wants to end the conversation\n",
        "    if user_input.lower() == \"bye\" or user_input.lower() == \"quit\":\n",
        "        print(\"Thank you for using our chatbot. Have a great day!\")\n",
        "        break\n",
        "\n",
        "    # Construct the prompt for ChatGPT API\n",
        "    prompt += \"\\nUser: \" + user_input\n",
        "\n",
        "    # Send user input and current prompt to ChatGPT API and receive response\n",
        "    response = openai.Completion.create(\n",
        "        model=\"text-davinci-003\",\n",
        "        prompt=prompt,\n",
        "        temperature=0.7,\n",
        "        max_tokens=1024\n",
        "    )\n",
        "\n",
        "    # Extract and display ChatGPT's response\n",
        "    chatbot_response = response.choices[0].text\n",
        "\n",
        "    # Skip empty responses\n",
        "    if not chatbot_response:\n",
        "        continue\n",
        "\n",
        "    print(\"Chatbot:\", chatbot_response)\n",
        "\n",
        "    # Update prompt for next iteration\n",
        "    prompt += \"\\nChatbot: \" + chatbot_response + \"\\n\"\n"
      ]
    },
    {
      "cell_type": "markdown",
      "metadata": {
        "id": "G-tSslz4b8df"
      },
      "source": [
        "#Task 6: Build a Customized Chatbot and Chat with It"
      ]
    },
    {
      "cell_type": "code",
      "execution_count": null,
      "metadata": {
        "id": "jhR3p6ADc_m2"
      },
      "outputs": [],
      "source": [
        "# Import the OpenAI library\n",
        "import openai\n",
        "\n",
        "# Start the chatbot conversation with a welcome message\n",
        "print(\"Welcome to our ebook customer service chatbot. How can I assist you with your ebook queries today?\")\n",
        "\n",
        "# Initialize conversation with a system message to set the context for ChatGPT\n",
        "prompt = \"System: You are a customer service AI knowledgeable about ebooks.\\\\n\"\n",
        "\n",
        "# Continuously interact with the user and handle their queries\n",
        "while True:\n",
        "    user_input = input(\"User: \")\n",
        "\n",
        "    # Check if user wants to end the conversation\n",
        "    if user_input.lower() in [\"bye\", \"quit\"]:\n",
        "        print(\"Thank you for using our chatbot. Have a great day!\")\n",
        "        break\n",
        "\n",
        "    # Add user input to prompt\n",
        "    prompt += \"User: \" + user_input + \"\\\\n\"\n",
        "\n",
        "    # Send user input and current prompt to ChatGPT API and receive response\n",
        "    response = openai.Completion.create(\n",
        "        model=\"text-davinci-003\",\n",
        "        prompt=prompt,\n",
        "        temperature=0.7,\n",
        "        max_tokens=150,\n",
        "        stop=[\"\\\\n\", \" User:\", \" System:\"]\n",
        "    )\n",
        "\n",
        "    # Extract and display ChatGPT's response\n",
        "    chatbot_response = response.choices[0].text.strip()\n",
        "\n",
        "    # Skip empty responses\n",
        "    if not chatbot_response:\n",
        "        continue\n",
        "\n",
        "    # Check if the user's query is off-topic\n",
        "    if \"ebook\" not in user_input.lower() and \"book\" not in user_input.lower() and any(word in chatbot_response.lower() for word in [\"sorry\", \"don't know\", \"not sure\"]):\n",
        "        print(\"Chatbot: I'm sorry, I specialize in ebooks. Could you please ask something related to that topic?\")\n",
        "    else:\n",
        "        print(\"Chatbot:\", chatbot_response)\n",
        "\n",
        "    # Update prompt for next iteration\n",
        "    prompt += \"Chatbot: \" + chatbot_response + \"\\\\n\""
      ]
    },
    {
      "cell_type": "code",
      "execution_count": null,
      "metadata": {
        "id": "5OQV8KnyggaX"
      },
      "outputs": [],
      "source": []
    }
  ],
  "metadata": {
    "colab": {
      "provenance": [],
      "include_colab_link": true
    },
    "kernelspec": {
      "display_name": "Python 3",
      "name": "python3"
    },
    "language_info": {
      "name": "python"
    }
  },
  "nbformat": 4,
  "nbformat_minor": 0
}